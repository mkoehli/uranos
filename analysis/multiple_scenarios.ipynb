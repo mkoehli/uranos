{
 "cells": [
  {
   "cell_type": "markdown",
   "id": "8ea07f69-c52c-4fda-870c-970d76ac4a4b",
   "metadata": {},
   "source": [
    "# Analysis of multiple URANOS scenarios at once\n",
    "\n",
    "The is an example script to read and plot multiple URANOS output files (neutron density maps) of the same scenario with different parameters (e.g., varying soil moisture).\n",
    "\n",
    "*-- last modified: June 29, 2022*"
   ]
  },
  {
   "cell_type": "code",
   "execution_count": 1,
   "id": "e9011c3c-c372-4254-9623-fe8542312857",
   "metadata": {},
   "outputs": [],
   "source": [
    "# import basic functions from the URANOS library\n",
    "from lib.uranos import collect_results, barplot_results"
   ]
  },
  {
   "cell_type": "markdown",
   "id": "9174d7ed-786d-47e3-be59-f6cb76e59e0a",
   "metadata": {},
   "source": [
    "## Define the scenario\n",
    "Provide the parameters that have changed between the different URANOS runs and generate a list of file names that contain the density maps. It is recommended to put all density map CSV files of a certain simulation into one zip file. The provided scripts will automatically add them up."
   ]
  },
  {
   "cell_type": "code",
   "execution_count": 19,
   "id": "90aa133f-fc84-4c71-8c73-38f2d09c89ba",
   "metadata": {},
   "outputs": [],
   "source": [
    "# Define study parameters (one for each URANOS simulation)\n",
    "# Here: soil moisture has been set to 2/15/50% in 3 URANOS simulations.\n",
    "range_of_soil_moisture = 2, 15, 50"
   ]
  },
  {
   "cell_type": "code",
   "execution_count": 20,
   "id": "b2d2479c-8ae5-4539-8406-e3901bb70984",
   "metadata": {},
   "outputs": [
    {
     "data": {
      "text/plain": [
       "['example_uranos_output/homogen-sm02.zip',\n",
       " 'example_uranos_output/homogen-sm15.zip',\n",
       " 'example_uranos_output/homogen-sm50.zip']"
      ]
     },
     "execution_count": 20,
     "metadata": {},
     "output_type": "execute_result"
    }
   ],
   "source": [
    "# For each parameter, assign the densityMap file (or a zip that contains them)\n",
    "files = []\n",
    "for sm in range_of_soil_moisture:\n",
    "    file = 'example_uranos_output/homogen-sm{:02d}.zip'.format(sm)\n",
    "    files.append(file)\n",
    "files"
   ]
  },
  {
   "cell_type": "markdown",
   "id": "99ac704d-7687-4503-974e-0602ea5265fc",
   "metadata": {},
   "source": [
    "## Read and sum up density matrices\n",
    "Use function `collect_results(files, ...) -> list of arrays` with options:\n",
    "- `files` - list of file names (zip or csv)\n",
    "- `size=500` - size of the URANOS output matrices, 500 by default\n",
    "- `norm_id=0` - Use `norm_id=n` to normalize the results relative to the $n$th element (or set -1 for no normalization = absolute values)\n",
    "- `radius=[200,200]` - crop the matrix by the inner 200x200 elements (i.e., ignore the outer 50 pixels to avoid border effects from the simulation. This is not necessary if you used reflective or periodic boundary conditions in URANOS.\n",
    "- `dropx=0, dropy=0` - Drop x columns from the right or y rows from the bottom of the cropped matrix.\n",
    "- `repeat_shift=None` - Extract only pixels that are shifted by this number of pixels (e.g., for repeated patterns, extract every 3rd pixel only). This has been used for regular patterns in orchard irrigation by Li et al. 2017.\n",
    "- `repeat_center` - Define the center of the repeated extraction."
   ]
  },
  {
   "cell_type": "code",
   "execution_count": 4,
   "id": "bf0bf105-8a7d-4064-8520-ebd8645da940",
   "metadata": {},
   "outputs": [
    {
     "name": "stdout",
     "output_type": "stream",
     "text": [
      "Reading file: example_uranos_output/homogen-sm02.zip\n",
      "Reading file: example_uranos_output/homogen-sm15.zip\n",
      "Reading file: example_uranos_output/homogen-sm50.zip\n",
      "Mean values: 29.0, 18.6, 15.0\n"
     ]
    }
   ],
   "source": [
    "# Read URANOS files into a list of flattened neutron density matrices (=arrays)\n",
    "neutron_arrays = collect_results(files, norm_id=-1)"
   ]
  },
  {
   "cell_type": "markdown",
   "id": "8d3b2904-83c0-4eda-8530-9d412c65e982",
   "metadata": {},
   "source": [
    "Conveniently, the function already provides a glimpse on the average neutron counts for each scenario. Looks like neutrons depend on soil moisture... "
   ]
  },
  {
   "cell_type": "code",
   "execution_count": 6,
   "id": "6a1de057-8471-4ab3-a275-d6be2da453c6",
   "metadata": {},
   "outputs": [
    {
     "data": {
      "text/plain": [
       "array([40., 23., 34., ..., 26., 18., 24.])"
      ]
     },
     "execution_count": 6,
     "metadata": {},
     "output_type": "execute_result"
    }
   ],
   "source": [
    "# Here is how one of those matrices looks like:\n",
    "neutron_arrays[0]"
   ]
  },
  {
   "cell_type": "markdown",
   "id": "ff43d25b-fc68-4991-9c18-c79335df2b9a",
   "metadata": {},
   "source": [
    "Note that `collect_results()` does *not* return a 2D array (or matrix), it returns a 1D flattened array instead. This is sufficient for homogeneous scenarios where spatial patterns don't matter."
   ]
  },
  {
   "cell_type": "markdown",
   "id": "f412bfc9-386d-4517-86cd-b4061d8c3283",
   "metadata": {},
   "source": [
    "## Plot results\n",
    "\n",
    "You can make your own plots, ofcourse, but the following functions provide a quick shortcut without the need to import matplotlib or care for basic labeling. You may use\n",
    "- `barplot_results(arrays, ...) -> ax, bars`, or\n",
    "- `boxplot_results(arrays, ...) -> ax, boxes`\n",
    "\n",
    "with the following options:\n",
    "\n",
    "- `data` - list of matrices (plots a bar/box for each matrix)\n",
    "- `labels=None` - label the x axis ticks of the bars/boxes or just use a, b, c, ...\n",
    "- `width=0.3` - width of the bars/boxes\n",
    "- `x_offset=0` - offset along x axis, can be used to put multiple bars/boxes side by side for each scenario\n",
    "- `ax=None` - Provide an existing axis here to add this plot as a subpanel of an overarching figure, for instance. If no ax is given, a new figure and axis is created and returned. \n",
    "- `title` - title of the plot, defaults to \"Detector count average\"\n",
    "- `y_label` - y axis label defaults to \"Relative neutron counts\"\n",
    "- `y_ticks=None` - y ticks can be set directlly here,\n",
    "- `color='C0'` - bar color\n",
    "- `figsize=(7,5)` - figure size\n",
    "- `text=None` - text to draw on top of the bars\n",
    "\n",
    "With the returned `ax` object and `bars`/`boxes` patches, you can make additional changes to the axis or patches afterwards, e.g., `ax.set_ylim(0,1)`."
   ]
  },
  {
   "cell_type": "code",
   "execution_count": 7,
   "id": "91965a0c-d239-4341-ae11-bbd98509f2c9",
   "metadata": {},
   "outputs": [
    {
     "data": {
      "text/plain": [
       "Text(0.5, 0, 'Soil moisture (in %)')"
      ]
     },
     "execution_count": 7,
     "metadata": {},
     "output_type": "execute_result"
    },
    {
     "data": {
      "image/png": "[encoded data removed]",
      "text/plain": [
       "<Figure size 504x360 with 1 Axes>"
      ]
     },
     "metadata": {
      "needs_background": "light"
     },
     "output_type": "display_data"
    }
   ],
   "source": [
    "# Plot the results as a bar plot\n",
    "ax, bars = barplot_results(neutron_arrays, labels=range_of_soil_moisture)\n",
    "ax.set_xlabel('Soil moisture (in %)')"
   ]
  },
  {
   "cell_type": "markdown",
   "id": "c20a8b46-d03c-46b6-a379-24466fe8e06f",
   "metadata": {},
   "source": [
    "## Export to DataFrame and CSV\n",
    "To further process the data, it is often convenient to export the main attributes of the results (i.e., mean and uncertainty) to a DataFrame or as a CSV file."
   ]
  },
  {
   "cell_type": "code",
   "execution_count": 13,
   "id": "18342a0c-e296-4571-8a6f-bc942d633814",
   "metadata": {},
   "outputs": [],
   "source": [
    "import os\n",
    "import pandas\n",
    "import numpy as np\n",
    "from scipy.stats import sem"
   ]
  },
  {
   "cell_type": "code",
   "execution_count": 17,
   "id": "88050487-578a-4b27-9816-b4d18e7f8df9",
   "metadata": {},
   "outputs": [
    {
     "data": {
      "text/html": [
       "<div>\n",
       "<style scoped>\n",
       "    .dataframe tbody tr th:only-of-type {\n",
       "        vertical-align: middle;\n",
       "    }\n",
       "\n",
       "    .dataframe tbody tr th {\n",
       "        vertical-align: top;\n",
       "    }\n",
       "\n",
       "    .dataframe thead th {\n",
       "        text-align: right;\n",
       "    }\n",
       "</style>\n",
       "<table border=\"1\" class=\"dataframe\">\n",
       "  <thead>\n",
       "    <tr style=\"text-align: right;\">\n",
       "      <th></th>\n",
       "      <th>N</th>\n",
       "      <th>N_err</th>\n",
       "    </tr>\n",
       "    <tr>\n",
       "      <th>sm</th>\n",
       "      <th></th>\n",
       "      <th></th>\n",
       "    </tr>\n",
       "  </thead>\n",
       "  <tbody>\n",
       "    <tr>\n",
       "      <th>2</th>\n",
       "      <td>28.965591</td>\n",
       "      <td>0.023247</td>\n",
       "    </tr>\n",
       "    <tr>\n",
       "      <th>15</th>\n",
       "      <td>18.575332</td>\n",
       "      <td>0.011748</td>\n",
       "    </tr>\n",
       "    <tr>\n",
       "      <th>50</th>\n",
       "      <td>15.025572</td>\n",
       "      <td>0.014328</td>\n",
       "    </tr>\n",
       "  </tbody>\n",
       "</table>\n",
       "</div>"
      ],
      "text/plain": [
       "            N     N_err\n",
       "sm                     \n",
       "2   28.965591  0.023247\n",
       "15  18.575332  0.011748\n",
       "50  15.025572  0.014328"
      ]
     },
     "execution_count": 17,
     "metadata": {},
     "output_type": "execute_result"
    }
   ],
   "source": [
    "# Create a DataFrame\n",
    "data = pandas.DataFrame(index = pandas.Series(range_of_soil_moisture, name='sm'))\n",
    "data['N'] = [np.mean(n) for n in neutron_arrays]\n",
    "data['N_err'] = [sem(n) for n in neutron_arrays]\n",
    "data"
   ]
  },
  {
   "cell_type": "code",
   "execution_count": 18,
   "id": "a0e26032-335b-431d-90ec-8ebbec5dbfeb",
   "metadata": {},
   "outputs": [
    {
     "name": "stdout",
     "output_type": "stream",
     "text": [
      "< Data saved to 'uranos_results.csv' (365 KB)\n"
     ]
    }
   ],
   "source": [
    "# Export mean and uncertainty as CSV \n",
    "output_file = 'uranos_results.csv'\n",
    "data.to_csv(output_file, float_format='%.4f')\n",
    "print(\"< Data saved to '%s' (%.0f KB)\" % (output_file, os.stat(output_file).st_size/1024))"
   ]
  }
 ],
 "metadata": {
  "kernelspec": {
   "display_name": "Python 3 (ipykernel)",
   "language": "python",
   "name": "python3"
  },
  "language_info": {
   "codemirror_mode": {
    "name": "ipython",
    "version": 3
   },
   "file_extension": ".py",
   "mimetype": "text/x-python",
   "name": "python",
   "nbconvert_exporter": "python",
   "pygments_lexer": "ipython3",
   "version": "3.9.6"
  }
 },
 "nbformat": 4,
 "nbformat_minor": 5
}
